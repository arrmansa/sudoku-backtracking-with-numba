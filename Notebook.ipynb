{
 "cells": [
  {
   "cell_type": "markdown",
   "id": "f243e662",
   "metadata": {},
   "source": [
    "## Import libraries"
   ]
  },
  {
   "cell_type": "code",
   "execution_count": 1,
   "id": "345fefdb",
   "metadata": {},
   "outputs": [],
   "source": [
    "import numpy as np\n",
    "from numba import jit\n",
    "import time"
   ]
  },
  {
   "cell_type": "markdown",
   "id": "487ae02d",
   "metadata": {},
   "source": [
    "# The puzzle"
   ]
  },
  {
   "cell_type": "code",
   "execution_count": 2,
   "id": "16d5efed",
   "metadata": {},
   "outputs": [],
   "source": [
    "sudoku_to_solve = [\n",
    "    [0, 0, 0, 0, 0, 0, 2, 0, 0],\n",
    "    [0, 8, 0, 0, 0, 7, 0, 9, 0],\n",
    "    [6, 0, 2, 0, 0, 0, 5, 0, 0],\n",
    "    [0, 7, 0, 0, 6, 0, 0, 0, 0],\n",
    "    [0, 0, 0, 9, 0, 1, 0, 0, 0],\n",
    "    [0, 0, 0, 0, 2, 0, 0, 4, 0],\n",
    "    [0, 0, 5, 0, 0, 0, 6, 0, 3],\n",
    "    [0, 9, 0, 4, 0, 0, 0, 7, 0],\n",
    "    [0, 0, 6, 0, 0, 0, 0, 0, 0]\n",
    "    ]"
   ]
  },
  {
   "cell_type": "markdown",
   "id": "6f3d113d",
   "metadata": {},
   "source": [
    "## With JIT"
   ]
  },
  {
   "cell_type": "code",
   "execution_count": 3,
   "id": "49cc2bd9",
   "metadata": {},
   "outputs": [],
   "source": [
    "@jit\n",
    "def backtrack_jit(i,j,board):\n",
    "    while board[i,j]!=0:                                  #While we are not at an empty space\n",
    "        i, j = i + (j+1)//9, (j+1)%9                          #Increase position\n",
    "        if i>=9:                                              #If we finish iterating the board\n",
    "            return True                                           #Sudoku complete\n",
    "    for test_num in range(1,10):                          #Test numbers 1-9\n",
    "        if test_num in board[i,:]:                            #If it is in row\n",
    "            continue                                              #Try next number\n",
    "        if test_num in board[:,j]:                            #If it is in column\n",
    "            continue                                               #Try next number\n",
    "        if test_num in board[i-i%3:i-i%3+3,j-j%3:j-j%3+3]:    #If it is in sub square\n",
    "            continue                                               #Try next number\n",
    "        board[i,j] = test_num                                 #Assign the number\n",
    "        if backtrack_jit(i,j,board):                          #if you can backtrack\n",
    "            return True                                           #Sudoku complete\n",
    "    board[i,j] = 0                                        #All numbers failed, make position empty\n",
    "    return False                                              #Backtrack"
   ]
  },
  {
   "cell_type": "markdown",
   "id": "81f32b61",
   "metadata": {},
   "source": [
    "### Compile time"
   ]
  },
  {
   "cell_type": "code",
   "execution_count": 4,
   "id": "ec32eca2",
   "metadata": {},
   "outputs": [
    {
     "name": "stdout",
     "output_type": "stream",
     "text": [
      "0.8631448745727539\n",
      "[[1 2 3 4 5 6 7 8 9]\n",
      " [4 5 6 7 8 9 1 2 3]\n",
      " [7 8 9 1 2 3 4 5 6]\n",
      " [2 1 4 3 6 5 8 9 7]\n",
      " [3 6 5 8 9 7 2 1 4]\n",
      " [8 9 7 2 1 4 3 6 5]\n",
      " [5 3 1 6 4 2 9 7 8]\n",
      " [6 4 2 9 7 8 5 3 1]\n",
      " [9 7 8 5 3 1 6 4 2]]\n"
     ]
    }
   ],
   "source": [
    "start_time = time.time()\n",
    "predef_arr = np.zeros((9,9)).astype(np.uint8)\n",
    "backtrack_jit(0,0,predef_arr)\n",
    "end_time = time.time()\n",
    "print(end_time - start_time)\n",
    "print(predef_arr)"
   ]
  },
  {
   "cell_type": "markdown",
   "id": "e48758c3",
   "metadata": {},
   "source": [
    "### Run time on zero initialization"
   ]
  },
  {
   "cell_type": "code",
   "execution_count": 5,
   "id": "199f99a2",
   "metadata": {},
   "outputs": [
    {
     "name": "stdout",
     "output_type": "stream",
     "text": [
      "0.0\n",
      "[[1 2 3 4 5 6 7 8 9]\n",
      " [4 5 6 7 8 9 1 2 3]\n",
      " [7 8 9 1 2 3 4 5 6]\n",
      " [2 1 4 3 6 5 8 9 7]\n",
      " [3 6 5 8 9 7 2 1 4]\n",
      " [8 9 7 2 1 4 3 6 5]\n",
      " [5 3 1 6 4 2 9 7 8]\n",
      " [6 4 2 9 7 8 5 3 1]\n",
      " [9 7 8 5 3 1 6 4 2]]\n"
     ]
    }
   ],
   "source": [
    "start_time = time.time()\n",
    "predef_arr = np.zeros((9,9)).astype(np.uint8)\n",
    "backtrack_jit(0,0,predef_arr)\n",
    "end_time = time.time()\n",
    "print(end_time - start_time)\n",
    "print(predef_arr)"
   ]
  },
  {
   "cell_type": "markdown",
   "id": "6e3d2a5d",
   "metadata": {},
   "source": [
    "### Run time on actual puzzle"
   ]
  },
  {
   "cell_type": "code",
   "execution_count": 6,
   "id": "5bd87804",
   "metadata": {},
   "outputs": [
    {
     "name": "stdout",
     "output_type": "stream",
     "text": [
      "0.19260454177856445\n",
      "[[9 5 7 6 1 3 2 8 4]\n",
      " [4 8 3 2 5 7 1 9 6]\n",
      " [6 1 2 8 4 9 5 3 7]\n",
      " [1 7 8 3 6 4 9 5 2]\n",
      " [5 2 4 9 7 1 3 6 8]\n",
      " [3 6 9 5 2 8 7 4 1]\n",
      " [8 4 5 7 9 2 6 1 3]\n",
      " [2 9 1 4 3 6 8 7 5]\n",
      " [7 3 6 1 8 5 4 2 9]]\n"
     ]
    }
   ],
   "source": [
    "start_time = time.time()\n",
    "predef_arr = np.array(sudoku_to_solve).astype(np.uint8)\n",
    "backtrack_jit(0,0,predef_arr)\n",
    "end_time = time.time()\n",
    "print(end_time - start_time)\n",
    "print(predef_arr)"
   ]
  },
  {
   "cell_type": "markdown",
   "id": "0b3d280f",
   "metadata": {},
   "source": [
    "## No JIT"
   ]
  },
  {
   "cell_type": "code",
   "execution_count": 7,
   "id": "298280c5",
   "metadata": {},
   "outputs": [],
   "source": [
    "def backtrack_py(i,j,board):\n",
    "    while board[i,j]!=0:                                  #While we are not at an empty space\n",
    "        i, j = i + (j+1)//9, (j+1)%9                          #Increase position\n",
    "        if i>=9:                                              #If we finish iterating the board\n",
    "            return True                                           #Sudoku complete\n",
    "    for test_num in range(1,10):                          #Test numbers 1-9\n",
    "        if test_num in board[i,:]:                            #If it is in row\n",
    "            continue                                              #Try next number\n",
    "        if test_num in board[:,j]:                            #If it is in column\n",
    "            continue                                               #Try next number\n",
    "        if test_num in board[i-i%3:i-i%3+3,j-j%3:j-j%3+3]:    #If it is in sub square\n",
    "            continue                                               #Try next number\n",
    "        board[i,j] = test_num                                 #Assign the number\n",
    "        if backtrack_py(i,j,board):                           #if you can backtrack\n",
    "            return True                                           #Sudoku complete\n",
    "    board[i,j] = 0                                        #All numbers failed, make position empty\n",
    "    return False                                              #Backtrack"
   ]
  },
  {
   "cell_type": "markdown",
   "id": "2441e81b",
   "metadata": {},
   "source": [
    "### Run time on zero initialization"
   ]
  },
  {
   "cell_type": "code",
   "execution_count": 8,
   "id": "fff46d72",
   "metadata": {},
   "outputs": [
    {
     "name": "stdout",
     "output_type": "stream",
     "text": [
      "0.01607680320739746\n",
      "[[1 2 3 4 5 6 7 8 9]\n",
      " [4 5 6 7 8 9 1 2 3]\n",
      " [7 8 9 1 2 3 4 5 6]\n",
      " [2 1 4 3 6 5 8 9 7]\n",
      " [3 6 5 8 9 7 2 1 4]\n",
      " [8 9 7 2 1 4 3 6 5]\n",
      " [5 3 1 6 4 2 9 7 8]\n",
      " [6 4 2 9 7 8 5 3 1]\n",
      " [9 7 8 5 3 1 6 4 2]]\n"
     ]
    }
   ],
   "source": [
    "start_time = time.time()\n",
    "predef_arr = np.zeros((9,9)).astype(np.uint8)\n",
    "backtrack_py(0,0,predef_arr)\n",
    "end_time = time.time()\n",
    "print(end_time - start_time)\n",
    "print(predef_arr)"
   ]
  },
  {
   "cell_type": "markdown",
   "id": "bb7f0c7d",
   "metadata": {},
   "source": [
    "### Run time on actual puzzle"
   ]
  },
  {
   "cell_type": "code",
   "execution_count": 9,
   "id": "116e8fdb",
   "metadata": {},
   "outputs": [
    {
     "name": "stdout",
     "output_type": "stream",
     "text": [
      "58.47101831436157\n",
      "[[9 5 7 6 1 3 2 8 4]\n",
      " [4 8 3 2 5 7 1 9 6]\n",
      " [6 1 2 8 4 9 5 3 7]\n",
      " [1 7 8 3 6 4 9 5 2]\n",
      " [5 2 4 9 7 1 3 6 8]\n",
      " [3 6 9 5 2 8 7 4 1]\n",
      " [8 4 5 7 9 2 6 1 3]\n",
      " [2 9 1 4 3 6 8 7 5]\n",
      " [7 3 6 1 8 5 4 2 9]]\n"
     ]
    }
   ],
   "source": [
    "start_time = time.time()\n",
    "predef_arr = np.array(sudoku_to_solve).astype(np.uint8)\n",
    "backtrack_py(0,0,predef_arr)\n",
    "end_time = time.time()\n",
    "print(end_time - start_time)\n",
    "print(predef_arr)"
   ]
  }
 ],
 "metadata": {
  "kernelspec": {
   "display_name": "Python 3 (ipykernel)",
   "language": "python",
   "name": "python3"
  },
  "language_info": {
   "codemirror_mode": {
    "name": "ipython",
    "version": 3
   },
   "file_extension": ".py",
   "mimetype": "text/x-python",
   "name": "python",
   "nbconvert_exporter": "python",
   "pygments_lexer": "ipython3",
   "version": "3.7.10"
  }
 },
 "nbformat": 4,
 "nbformat_minor": 5
}
